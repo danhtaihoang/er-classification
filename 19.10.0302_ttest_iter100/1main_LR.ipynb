{
 "cells": [
  {
   "cell_type": "code",
   "execution_count": 1,
   "metadata": {},
   "outputs": [],
   "source": [
    "import sys\n",
    "import numpy as np\n",
    "import pandas as pd\n",
    "\n",
    "from sklearn.utils import shuffle\n",
    "from sklearn.preprocessing import MinMaxScaler\n",
    "\n",
    "from sklearn.model_selection import train_test_split,KFold\n",
    "from sklearn.metrics import accuracy_score,roc_curve,auc,precision_score,recall_score\n",
    "\n",
    "from sklearn.linear_model import LogisticRegression\n",
    "#from sklearn.linear_model import LogisticRegressionCV\n",
    "#from expectation_reflection import ExpectationReflection\n",
    "\n",
    "import expectation_reflection_cv as ERCV\n",
    "#import expectation_reflection_cvmc as ERCVMC\n",
    "from function import split_train_test,make_data_balance"
   ]
  },
  {
   "cell_type": "code",
   "execution_count": 2,
   "metadata": {},
   "outputs": [],
   "source": [
    "np.random.seed(1)"
   ]
  },
  {
   "cell_type": "code",
   "execution_count": 3,
   "metadata": {},
   "outputs": [],
   "source": [
    "def inference(X_train,y_train,X_test,y_test):     \n",
    "    n = X_train.shape[1]\n",
    "    m = len(np.unique(y_train))\n",
    "\n",
    "    l2 = np.logspace(-5,1,20,base=10.0)\n",
    "    #l2 = [0.,0.00001,0.0001,0.001,0.01,0.1,1.]\n",
    "    nl2 = len(l2)\n",
    "              \n",
    "    kf = 3   \n",
    "    kfold = KFold(n_splits=kf,shuffle=False,random_state=1)\n",
    "\n",
    "    # predict with ER\n",
    "    #if m == 2:\n",
    "    h01 = np.zeros(kf)\n",
    "    w1 = np.zeros((kf,n))\n",
    "    acc1 = np.zeros(kf)\n",
    "    \n",
    "    h0 = np.zeros(nl2)\n",
    "    w = np.zeros((nl2,n))\n",
    "    acc = np.zeros(nl2)            \n",
    "    for il2 in range(nl2):            \n",
    "        for i,(train_index,val_index) in enumerate(kfold.split(y_train)):\n",
    "            X_train1, X_val = X_train[train_index], X_train[val_index]\n",
    "            y_train1, y_val = y_train[train_index], y_train[val_index]\n",
    "            \n",
    "            #h01[i],w1[i,:] = ERCV.fit(X_train1,y_train1,X_val,y_val,niter_max=1000,l2=l2[il2])\n",
    "            model = LogisticRegression(penalty='l2',C=1./l2[il2],solver='liblinear',multi_class='auto')\n",
    "            model.fit(X_train1,y_train1)\n",
    "            \n",
    "            h01[i] = model.intercept_\n",
    "            w1[i,:] = model.coef_\n",
    "            y_val_pred,p_val_pred = ERCV.predict(X_val,h01[i],w1[i])\n",
    "            \n",
    "            #acc1[i] = accuracy_score(y_val,y_val_pred)\n",
    "            acc1[i] = ((p_val_pred - y_val)**2).mean()\n",
    "                                        \n",
    "        h0[il2] = h01.mean(axis=0)\n",
    "        w[il2,:] = w1.mean(axis=0)\n",
    "        acc[il2] = acc1.mean()\n",
    "    \n",
    "    il2_select = np.argmin(acc)\n",
    "    #print('l2:',l2[il2_select])\n",
    "    y_pred,p_pred = ERCV.predict(X_test,h0[il2_select],w[il2_select,:])\n",
    "\n",
    "    # entire training set:\n",
    "    #model = ExpectationReflection(niter_max=1000,l2=l2[il2_select])\n",
    "    #model.fit(X_train,y_train)\n",
    "    #y_pred = model.predict(X_test)\n",
    "                                        \n",
    "    accuracy = accuracy_score(y_test,y_pred)\n",
    "    cost = ((p_pred - y_test)**2).mean()\n",
    "    precision = precision_score(y_test,y_pred)\n",
    "    recall = recall_score(y_test,y_pred)\n",
    "  \n",
    "    # Compute ROC curve and ROC area for each class\n",
    "    fpr, tpr,thresholds = roc_curve(y_test, p_pred, drop_intermediate=False)\n",
    "    roc_auc= auc(fpr, tpr)\n",
    "\n",
    "    #print(len(p_pred),len(y_test),len(fpr),len(tpr))                       \n",
    "\n",
    "    return accuracy,roc_auc,precision,recall,cost"
   ]
  },
  {
   "cell_type": "code",
   "execution_count": 4,
   "metadata": {},
   "outputs": [],
   "source": [
    "def compare_inference(X,y,train_size,npred):\n",
    "    acc = np.zeros(npred)\n",
    "    roc_auc = np.zeros(npred)\n",
    "    precision = np.zeros(npred)\n",
    "    recall = np.zeros(npred)\n",
    "    cost = np.zeros(npred)\n",
    "    for ipred in range(npred):\n",
    "        X_train,X_test,y_train,y_test = split_train_test(X,y,train_size,test_size=0.7)\n",
    "\n",
    "        #X_train = MinMaxScaler().fit_transform(X_train)\n",
    "        #X_test = MinMaxScaler().fit_transform(X_test)\n",
    "        \n",
    "        # 2019.07.15\n",
    "        #acc[ipred],cost[ipred],roc_auc[ipred] = inference(X_train,y_train,X_test,y_test)\n",
    "        acc[ipred],roc_auc[ipred],precision[ipred],recall[ipred],cost[ipred] \\\n",
    "        = inference(X_train,y_train,X_test,y_test)\n",
    "            \n",
    "    #return acc.mean(axis=0),acc.std(),cost.mean(),cost.std(),roc_auc.mean(),roc_auc.std()\n",
    "    #return acc.mean(axis=0),roc_auc.mean(),precision.mean(),recall.mean(),cost.mean(),\\\n",
    "    #       acc.std(),roc_auc.std(),precision.std(),recall.std(),cost.std()\n",
    "    return acc,roc_auc,precision,recall,cost"
   ]
  },
  {
   "cell_type": "code",
   "execution_count": 5,
   "metadata": {},
   "outputs": [
    {
     "name": "stderr",
     "output_type": "stream",
     "text": [
      "/home/tai/anaconda3/lib/python3.7/site-packages/sklearn/metrics/classification.py:1143: UndefinedMetricWarning: Precision is ill-defined and being set to 0.0 due to no predicted samples.\n",
      "  'precision', 'predicted', average, warn_for)\n"
     ]
    }
   ],
   "source": [
    "data_name_list = ['nki','peptide','amputation','wisconsin','heat','hc','paradox','school','stigma','ef',\\\n",
    "                 'smok','coag','anemia','cervix','mental','dement','septic','coimbra','cryo','somerville',\\\n",
    "                  'hcc','heart','liver','language']\n",
    "#data_name_list = ['nki']\n",
    "n_data = len(data_name_list)\n",
    "npred = 100\n",
    "train_size = 0.3\n",
    "for data_id in range(n_data):\n",
    "    data_name = data_name_list[data_id]\n",
    "    # load data\n",
    "    X = np.loadtxt('../data_sets/%s_x.txt'%data_name)\n",
    "    y = np.loadtxt('../data_sets/%s_y.txt'%data_name)\n",
    "    #print('ini:',np.unique(y,return_counts=True))\n",
    "\n",
    "    X,y = make_data_balance(X,y)\n",
    "    #print('balance:',np.unique(y,return_counts=True))\n",
    "\n",
    "    X, y = shuffle(X, y)\n",
    "    X = MinMaxScaler().fit_transform(X)                  \n",
    "    acc = compare_inference(X,y,train_size,npred)\n",
    "    #print(i,acc.mean(axis=1))\n",
    "\n",
    "    np.savetxt('result/%s_acc_LR.dat'%data_name,acc,fmt='%f')"
   ]
  }
 ],
 "metadata": {
  "kernelspec": {
   "display_name": "Python 3",
   "language": "python",
   "name": "python3"
  },
  "language_info": {
   "codemirror_mode": {
    "name": "ipython",
    "version": 3
   },
   "file_extension": ".py",
   "mimetype": "text/x-python",
   "name": "python",
   "nbconvert_exporter": "python",
   "pygments_lexer": "ipython3",
   "version": "3.7.3"
  }
 },
 "nbformat": 4,
 "nbformat_minor": 2
}
