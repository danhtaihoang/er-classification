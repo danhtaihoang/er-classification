{
 "cells": [
  {
   "cell_type": "code",
   "execution_count": 1,
   "metadata": {},
   "outputs": [],
   "source": [
    "import numpy as np\n",
    "import matplotlib.pyplot as plt\n",
    "import matplotlib.ticker as mtick\n",
    "from scipy import stats\n",
    "\n",
    "%matplotlib inline"
   ]
  },
  {
   "cell_type": "code",
   "execution_count": 2,
   "metadata": {},
   "outputs": [],
   "source": [
    "np.random.seed(1)"
   ]
  },
  {
   "cell_type": "code",
   "execution_count": 3,
   "metadata": {},
   "outputs": [],
   "source": [
    "data_name_list = ['nki','peptide','amputation','wisconsin','heat','hc','paradox','school','stigma','ef',\\\n",
    "                 'smok','coag','anemia','cervix','mental','dement','septic','coimbra','cryo','somerville',\\\n",
    "                  'hcc','heart','liver','language']\n",
    "n_data = len(data_name_list)"
   ]
  },
  {
   "cell_type": "code",
   "execution_count": 4,
   "metadata": {},
   "outputs": [],
   "source": [
    "def compare_ttest(t):\n",
    "    pos = 0 ; neg = 0 ; eq = 0\n",
    "    for ij in range(len(data_name_list)):\n",
    "        data_name = data_name_list[ij]\n",
    "        acc_LR = np.loadtxt('result/%s_acc_LR.dat'%data_name)\n",
    "        acc_ER = np.loadtxt('result/%s_acc_ER.dat'%data_name)\n",
    "\n",
    "        acc_LR = acc_LR[t]\n",
    "        acc_ER = acc_ER[t]\n",
    "\n",
    "        acc_LR_mean = acc_LR.mean()\n",
    "        acc_ER_mean = acc_ER.mean()\n",
    "\n",
    "        t_score,p = stats.ttest_ind(acc_LR,acc_ER)\n",
    "        #print('p_value:',p)\n",
    "\n",
    "        if (p < 0.05):\n",
    "            if acc_LR_mean < acc_ER_mean:\n",
    "                pos += 1\n",
    "                print(data_name,'better',p)            \n",
    "            else:\n",
    "                neg += 1\n",
    "                print(data_name,'worse',p)    \n",
    "        else:\n",
    "            eq += 1\n",
    "            print(data_name,', equally, ',p)\n",
    "\n",
    "    print('total better:',pos,'equal:',eq,'worse:',neg)\n",
    "    \n",
    "    return pos,eq,neg"
   ]
  },
  {
   "cell_type": "code",
   "execution_count": 5,
   "metadata": {},
   "outputs": [
    {
     "name": "stdout",
     "output_type": "stream",
     "text": [
      "acc:\n",
      "nki worse 0.044862452671072445\n",
      "peptide worse 9.83933825032114e-12\n",
      "amputation , equally,  0.8169389470415835\n",
      "wisconsin , equally,  0.14314204574072026\n",
      "heat better 8.051094415521572e-08\n",
      "hc worse 6.37569569466233e-30\n",
      "paradox better 0.002831133770016154\n",
      "school , equally,  0.42626355697807605\n",
      "stigma worse 3.9598248633229146e-36\n",
      "ef better 1.5318375052639775e-07\n",
      "smok worse 7.783771738040881e-63\n",
      "coag , equally,  0.19872681312004611\n",
      "anemia better 1.1900806065113975e-10\n",
      "cervix worse 5.928863413689635e-104\n",
      "mental worse 0.01536275539416911\n",
      "dement better 0.030546386574585235\n",
      "septic better 0.00648279977827275\n",
      "coimbra , equally,  0.6233879567431841\n",
      "cryo , equally,  0.13621464444209047\n",
      "somerville better 0.003986736431675879\n",
      "hcc better 0.03623536173866337\n",
      "heart , equally,  0.3417049683950202\n",
      "liver worse 0.00025814713290368623\n",
      "language better 1.5247508085008048e-15\n",
      "total better: 9 equal: 7 worse: 8\n"
     ]
    },
    {
     "data": {
      "text/plain": [
       "(9, 7, 8)"
      ]
     },
     "execution_count": 5,
     "metadata": {},
     "output_type": "execute_result"
    }
   ],
   "source": [
    "print('acc:')\n",
    "t = 0\n",
    "compare_ttest(t)"
   ]
  },
  {
   "cell_type": "code",
   "execution_count": 6,
   "metadata": {},
   "outputs": [
    {
     "name": "stdout",
     "output_type": "stream",
     "text": [
      "auc:\n",
      "nki , equally,  0.25160929603488624\n",
      "peptide worse 2.5113399598958397e-08\n",
      "amputation , equally,  0.7840614585852881\n",
      "wisconsin worse 0.006501318282299\n",
      "heat better 0.00055610153515938\n",
      "hc worse 2.8679688034297794e-21\n",
      "paradox better 0.010790224573246113\n",
      "school worse 0.0009015659370966973\n",
      "stigma worse 2.075116669982546e-51\n",
      "ef , equally,  0.11380385087632197\n",
      "smok worse 5.22597478870388e-24\n",
      "coag , equally,  0.5167263958529382\n",
      "anemia better 0.0010541027770765434\n",
      "cervix worse 4.309470477138698e-73\n",
      "mental , equally,  0.07419802418426526\n",
      "dement , equally,  0.3640954365833633\n",
      "septic better 4.357275069424817e-06\n",
      "coimbra , equally,  0.44783307822844054\n",
      "cryo , equally,  0.49424931215767387\n",
      "somerville worse 0.01494147616983789\n",
      "hcc , equally,  0.6993996328521326\n",
      "heart , equally,  0.061084203924683035\n",
      "liver worse 0.002135265256977907\n",
      "language better 2.6719713396600554e-10\n",
      "total better: 5 equal: 10 worse: 9\n"
     ]
    },
    {
     "data": {
      "text/plain": [
       "(5, 10, 9)"
      ]
     },
     "execution_count": 6,
     "metadata": {},
     "output_type": "execute_result"
    }
   ],
   "source": [
    "print('auc:')\n",
    "t = 1\n",
    "compare_ttest(t)"
   ]
  },
  {
   "cell_type": "code",
   "execution_count": 7,
   "metadata": {},
   "outputs": [
    {
     "name": "stdout",
     "output_type": "stream",
     "text": [
      "precision:\n",
      "nki , equally,  0.37697973578874255\n",
      "peptide worse 6.305676280204309e-13\n",
      "amputation , equally,  0.5122166721869725\n",
      "wisconsin better 0.015656308058701916\n",
      "heat better 7.239505973151672e-12\n",
      "hc worse 6.565302424045539e-13\n",
      "paradox better 0.0010588894369217834\n",
      "school , equally,  0.7592616115151625\n",
      "stigma worse 7.384739784335021e-19\n",
      "ef better 1.7506237345203162e-06\n",
      "smok worse 1.7038935250405025e-62\n",
      "coag , equally,  0.22095488823944395\n",
      "anemia better 8.623625445905465e-09\n",
      "cervix worse 5.682194171285747e-13\n",
      "mental , equally,  0.20976091885698056\n",
      "dement better 0.01259850900932789\n",
      "septic , equally,  0.07943882658663307\n",
      "coimbra worse 0.006226563993958673\n",
      "cryo , equally,  0.36614665001969393\n",
      "somerville better 0.0011962229363811291\n",
      "hcc , equally,  0.2069210088855635\n",
      "heart worse 0.04309714249384726\n",
      "liver worse 0.04963216468651284\n",
      "language better 2.4864665946767946e-05\n",
      "total better: 8 equal: 8 worse: 8\n"
     ]
    },
    {
     "data": {
      "text/plain": [
       "(8, 8, 8)"
      ]
     },
     "execution_count": 7,
     "metadata": {},
     "output_type": "execute_result"
    }
   ],
   "source": [
    "print('precision:')\n",
    "t = 2\n",
    "compare_ttest(t)"
   ]
  },
  {
   "cell_type": "code",
   "execution_count": 8,
   "metadata": {},
   "outputs": [
    {
     "name": "stdout",
     "output_type": "stream",
     "text": [
      "recall:\n",
      "nki , equally,  0.14208983584562668\n",
      "peptide worse 3.457551372538317e-05\n",
      "amputation , equally,  0.30750740613562916\n",
      "wisconsin worse 0.002131145341944811\n",
      "heat worse 7.336156598196056e-06\n",
      "hc worse 6.054635600211012e-12\n",
      "paradox , equally,  0.620353373908458\n",
      "school , equally,  0.5254256663009544\n",
      "stigma worse 5.7352884503398055e-31\n",
      "ef better 3.191046957374692e-05\n",
      "smok worse 2.7984111954290965e-06\n",
      "coag , equally,  0.8624285568848505\n",
      "anemia better 4.365742820148032e-09\n",
      "cervix worse 1.767946416354979e-110\n",
      "mental worse 1.2988803095070319e-05\n",
      "dement worse 2.870824869403734e-06\n",
      "septic better 0.04516104141581022\n",
      "coimbra better 0.02457525456509892\n",
      "cryo better 0.002614079864870716\n",
      "somerville worse 3.835136640356024e-21\n",
      "hcc better 6.087701052625042e-07\n",
      "heart , equally,  0.3669898974578052\n",
      "liver , equally,  0.21227339216070484\n",
      "language better 1.6389897177965467e-10\n",
      "total better: 7 equal: 7 worse: 10\n"
     ]
    },
    {
     "data": {
      "text/plain": [
       "(7, 7, 10)"
      ]
     },
     "execution_count": 8,
     "metadata": {},
     "output_type": "execute_result"
    }
   ],
   "source": [
    "print('recall:')\n",
    "t = 3\n",
    "compare_ttest(t)"
   ]
  }
 ],
 "metadata": {
  "kernelspec": {
   "display_name": "Python 3",
   "language": "python",
   "name": "python3"
  },
  "language_info": {
   "codemirror_mode": {
    "name": "ipython",
    "version": 3
   },
   "file_extension": ".py",
   "mimetype": "text/x-python",
   "name": "python",
   "nbconvert_exporter": "python",
   "pygments_lexer": "ipython3",
   "version": "3.7.3"
  }
 },
 "nbformat": 4,
 "nbformat_minor": 2
}
